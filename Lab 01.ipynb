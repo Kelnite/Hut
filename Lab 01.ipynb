{
  "cells": [
    {
      "cell_type": "code",
      "execution_count": 1,
      "metadata": {
        "vscode": {
          "languageId": "plaintext"
        },
        "id": "3sFbuRAsaP46"
      },
      "outputs": [],
      "source": [
        "import tensorflow as tf\n",
        "\n",
        "import os, pathlib, warnings, urllib, shutil\n",
        "\n",
        "warnings.filterwarnings(\"ignore\")"
      ]
    },
    {
      "cell_type": "code",
      "source": [
        "if not os.path.exists(\"Helper.py\"):\n",
        "\n",
        "  giturl = \"https://raw.githubusercontent.com/Kelnite/Hut/refs/heads/master/Helper.py\"\n",
        "\n",
        "  urllib.request.urlretrieve(giturl, \"Helper.py\")"
      ],
      "metadata": {
        "id": "MUoYSpsgboHg"
      },
      "execution_count": 2,
      "outputs": []
    },
    {
      "cell_type": "code",
      "execution_count": 3,
      "metadata": {
        "vscode": {
          "languageId": "plaintext"
        },
        "id": "QIYgFN4aaP5J",
        "outputId": "3a3ecec6-871d-4727-8b38-3f2c7511e18b",
        "colab": {
          "base_uri": "https://localhost:8080/",
          "height": 36
        }
      },
      "outputs": [
        {
          "output_type": "execute_result",
          "data": {
            "text/plain": [
              "'/content'"
            ],
            "application/vnd.google.colaboratory.intrinsic+json": {
              "type": "string"
            }
          },
          "metadata": {},
          "execution_count": 3
        }
      ],
      "source": [
        "from Helper import GetFile\n",
        "\n",
        "giturl = \"https://github.com/dicodingacademy/assets/releases/download/release/\"\n",
        "\n",
        "dataset = \"rockpaperscissors.zip\"\n",
        "\n",
        "GetFile(giturl, dataset, \"/content\", unpack=True, file_type=\"zip\")"
      ]
    },
    {
      "cell_type": "code",
      "execution_count": 4,
      "metadata": {
        "vscode": {
          "languageId": "plaintext"
        },
        "id": "zYFXBwvwaP5O",
        "outputId": "7da94e72-eaa1-4f8e-b999-99b6f333e682",
        "colab": {
          "base_uri": "https://localhost:8080/"
        }
      },
      "outputs": [
        {
          "output_type": "execute_result",
          "data": {
            "text/plain": [
              "['rock', 'paper', 'README_rpc-cv-images.txt', 'scissors']"
            ]
          },
          "metadata": {},
          "execution_count": 4
        }
      ],
      "source": [
        "root = \"/content/rockpaperscissors/rps-cv-images\"\n",
        "\n",
        "os.listdir(root)"
      ]
    },
    {
      "cell_type": "code",
      "execution_count": 5,
      "metadata": {
        "vscode": {
          "languageId": "plaintext"
        },
        "id": "jqAP9xHsaP5R"
      },
      "outputs": [],
      "source": [
        "from tensorflow.keras.preprocessing.image import ImageDataGenerator\n",
        "\n",
        "rescale = 1.0 / 255.0\n",
        "\n",
        "trainset = ImageDataGenerator(\n",
        "  rescale = rescale,\n",
        "  rotation_range = 10,\n",
        "  validation_split = 0.3,\n",
        "  zoom_range = 0.2,\n",
        "  shear_range = 0.2,\n",
        "  fill_mode = 'nearest'\n",
        ")\n",
        "\n",
        "validset = ImageDataGenerator(\n",
        "  rescale=rescale,\n",
        "  validation_split = 0.3\n",
        ")"
      ]
    },
    {
      "cell_type": "code",
      "execution_count": null,
      "metadata": {
        "vscode": {
          "languageId": "plaintext"
        },
        "id": "RPzXYMWzaP5T"
      },
      "outputs": [],
      "source": [
        "total_batch = 128\n",
        "\n",
        "train = trainset.flow_from_directory(\n",
        "  root,\n",
        "  target_size = (150, 150),\n",
        "  class_mode = \"categorical\",\n",
        "  batch_size = total_batch,\n",
        "  subset = \"training\"\n",
        ")"
      ]
    },
    {
      "cell_type": "code",
      "execution_count": 7,
      "metadata": {
        "vscode": {
          "languageId": "plaintext"
        },
        "id": "30QUhkNYaP5W",
        "outputId": "19986d55-41aa-412d-97ad-8ef559295111",
        "colab": {
          "base_uri": "https://localhost:8080/"
        }
      },
      "outputs": [
        {
          "output_type": "execute_result",
          "data": {
            "text/plain": [
              "['paper', 'rock', 'scissors']"
            ]
          },
          "metadata": {},
          "execution_count": 7
        }
      ],
      "source": [
        "labeler = list(train.class_indices.keys())\n",
        "\n",
        "labeler"
      ]
    },
    {
      "cell_type": "code",
      "execution_count": null,
      "metadata": {
        "vscode": {
          "languageId": "plaintext"
        },
        "id": "WfNRUhVvaP5Z"
      },
      "outputs": [],
      "source": [
        "valid = validset.flow_from_directory(\n",
        "  root,\n",
        "  target_size = (150, 150),\n",
        "  class_mode = \"categorical\",\n",
        "  batch_size = total_batch,\n",
        "  subset = \"validation\"\n",
        ")"
      ]
    },
    {
      "cell_type": "code",
      "execution_count": null,
      "metadata": {
        "vscode": {
          "languageId": "plaintext"
        },
        "id": "hA1Jj4GaaP5c"
      },
      "outputs": [],
      "source": [
        "from tensorflow.keras.models import Sequential\n",
        "\n",
        "from tensorflow.keras import layers\n",
        "\n",
        "model = Sequential([\n",
        "  layers.Conv2D(16, 3, activation=\"relu\", input_shape=(150, 150, 3)),\n",
        "  layers.MaxPool2D((2, 2)),\n",
        "  layers.Conv2D(32, 3, activation=\"relu\"),\n",
        "  layers.MaxPool2D((2, 2)),\n",
        "  layers.Conv2D(64, 3, activation=\"relu\"),\n",
        "  layers.MaxPool2D((2, 2)),\n",
        "  layers.Flatten(),\n",
        "  layers.Dropout(0.3),\n",
        "  layers.Dense(128, activation=\"relu\"),\n",
        "  layers.Dense(3, activation=\"softmax\")\n",
        "])\n",
        "\n",
        "loss = \"categorical_crossentropy\"\n",
        "\n",
        "model.compile(optimizer=\"adam\", loss=loss, metrics=[\"accuracy\"])"
      ]
    },
    {
      "cell_type": "code",
      "execution_count": null,
      "metadata": {
        "vscode": {
          "languageId": "plaintext"
        },
        "id": "R26aOBLQaP5e"
      },
      "outputs": [],
      "source": [
        "hist = model.fit(train, epochs=10, validation_data=valid)"
      ]
    }
  ],
  "metadata": {
    "language_info": {
      "name": "python"
    },
    "colab": {
      "provenance": []
    },
    "kernelspec": {
      "name": "python3",
      "display_name": "Python 3"
    }
  },
  "nbformat": 4,
  "nbformat_minor": 0
}