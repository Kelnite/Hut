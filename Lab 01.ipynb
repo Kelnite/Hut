{
 "cells": [
  {
   "cell_type": "code",
   "execution_count": null,
   "metadata": {
    "vscode": {
     "languageId": "plaintext"
    }
   },
   "outputs": [],
   "source": [
    "import tensorflow as tf\n",
    "\n",
    "import os, pathlib, warnings, urllib, shutil\n",
    "\n",
    "warnings.filterwarnings(\"ignore\")"
   ]
  },
  {
   "cell_type": "code",
   "execution_count": null,
   "metadata": {
    "vscode": {
     "languageId": "plaintext"
    }
   },
   "outputs": [],
   "source": [
    "giturl = \"https://github.com/dicodingacademy/assets/releases/download/release/\"\n",
    "\n",
    "dataset = \"rockpaperscissors.zip\"\n",
    "\n",
    "urllib.request.urlretrieve(os.path.join(giturl, dataset), dataset)\n",
    "\n",
    "shutil.unpack_archive('rockpaperscissors.zip', '/content', 'zip')"
   ]
  },
  {
   "cell_type": "code",
   "execution_count": null,
   "metadata": {
    "vscode": {
     "languageId": "plaintext"
    }
   },
   "outputs": [],
   "source": [
    "root = \"/content/rockpaperscissors/rps-cv-images\"\n",
    "\n",
    "os.listdir(root)"
   ]
  },
  {
   "cell_type": "code",
   "execution_count": null,
   "metadata": {
    "vscode": {
     "languageId": "plaintext"
    }
   },
   "outputs": [],
   "source": [
    "from tensorflow.keras.preprocessing.image import ImageDataGenerator\n",
    "\n",
    "rescale = 1.0 / 255.0\n",
    "\n",
    "trainset = ImageDataGenerator(\n",
    "  rescale = rescale,\n",
    "  fill_mode = 'nearest'\n",
    ")\n",
    "\n",
    "validset = ImageDataGenerator(rescale=rescale)"
   ]
  },
  {
   "cell_type": "code",
   "execution_count": null,
   "metadata": {
    "vscode": {
     "languageId": "plaintext"
    }
   },
   "outputs": [],
   "source": [
    "total_batch = 128\n",
    "\n",
    "train = trainset.flow_from_directory(\n",
    "  root,\n",
    "  target_size = (150, 150),\n",
    "  class_mode = \"categorical\",\n",
    "  subset = \"training\",\n",
    "  batch_size = total_batch\n",
    ")"
   ]
  },
  {
   "cell_type": "code",
   "execution_count": null,
   "metadata": {
    "vscode": {
     "languageId": "plaintext"
    }
   },
   "outputs": [],
   "source": [
    "valid = validset.flow_from_directory(\n",
    "  root,\n",
    "  target_size = (150, 150),\n",
    "  class_mode = \"categorical\",\n",
    "  subset = \"validation\",\n",
    "  batch_size = total_batch\n",
    ")"
   ]
  }
 ],
 "metadata": {
  "language_info": {
   "name": "python"
  }
 },
 "nbformat": 4,
 "nbformat_minor": 2
}
