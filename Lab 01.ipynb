{
  "cells": [
    {
      "cell_type": "code",
      "execution_count": 1,
      "metadata": {
        "id": "3sFbuRAsaP46",
        "vscode": {
          "languageId": "plaintext"
        }
      },
      "outputs": [],
      "source": [
        "import tensorflow as tf\n",
        "\n",
        "import os, pathlib, warnings, urllib, shutil\n",
        "\n",
        "warnings.filterwarnings(\"ignore\")"
      ]
    },
    {
      "cell_type": "code",
      "execution_count": 2,
      "metadata": {
        "id": "MUoYSpsgboHg"
      },
      "outputs": [],
      "source": [
        "if not os.path.exists(\"Helper.py\"):\n",
        "\n",
        "  giturl = \"https://raw.githubusercontent.com/Kelnite/Hut/refs/heads/main/Helper.py\"\n",
        "\n",
        "  urllib.request.urlretrieve(giturl, \"Helper.py\")"
      ]
    },
    {
      "cell_type": "code",
      "execution_count": 3,
      "metadata": {
        "colab": {
          "base_uri": "https://localhost:8080/",
          "height": 36
        },
        "id": "QIYgFN4aaP5J",
        "outputId": "29f1f522-94b3-4037-b796-43bd5db4abdd",
        "vscode": {
          "languageId": "plaintext"
        }
      },
      "outputs": [
        {
          "output_type": "execute_result",
          "data": {
            "text/plain": [
              "'/content'"
            ],
            "application/vnd.google.colaboratory.intrinsic+json": {
              "type": "string"
            }
          },
          "metadata": {},
          "execution_count": 3
        }
      ],
      "source": [
        "from Helper import GetFile\n",
        "\n",
        "giturl = \"https://github.com/dicodingacademy/assets/releases/download/release/\"\n",
        "\n",
        "dataset = \"rockpaperscissors.zip\"\n",
        "\n",
        "GetFile(giturl, dataset, \"/content\", unpack=True, file_type=\"zip\")"
      ]
    },
    {
      "cell_type": "code",
      "execution_count": 4,
      "metadata": {
        "colab": {
          "base_uri": "https://localhost:8080/"
        },
        "id": "zYFXBwvwaP5O",
        "outputId": "0ee844de-8c28-4f7e-fcc6-ffeb8f0e3958",
        "vscode": {
          "languageId": "plaintext"
        }
      },
      "outputs": [
        {
          "output_type": "execute_result",
          "data": {
            "text/plain": [
              "['scissors', 'paper', 'README_rpc-cv-images.txt', 'rock']"
            ]
          },
          "metadata": {},
          "execution_count": 4
        }
      ],
      "source": [
        "root = \"/content/rockpaperscissors/rps-cv-images\"\n",
        "\n",
        "os.listdir(root)"
      ]
    },
    {
      "cell_type": "code",
      "execution_count": null,
      "metadata": {
        "vscode": {
          "languageId": "plaintext"
        },
        "id": "HVeUllV0eQ8n"
      },
      "outputs": [],
      "source": [
        "from tensorflow.keras.preprocessing.image import ImageDataGenerator\n",
        "\n",
        "rescale = 1.0 / 255.0; total_batch = 128\n",
        "\n",
        "trainset = ImageDataGenerator(\n",
        "  rescale = rescale,\n",
        "  rotation_range = 10,\n",
        "  validation_split = 0.3,\n",
        "  zoom_range = 0.2,\n",
        "  shear_range = 0.2,\n",
        "  fill_mode = 'nearest'\n",
        ")\n",
        "\n",
        "train = trainset.flow_from_directory(\n",
        "  root,\n",
        "  target_size = (150, 150),\n",
        "  class_mode = \"categorical\",\n",
        "  batch_size = total_batch,\n",
        "  subset = \"training\"\n",
        ")"
      ]
    },
    {
      "cell_type": "code",
      "execution_count": 6,
      "metadata": {
        "vscode": {
          "languageId": "plaintext"
        },
        "id": "QOLcStS_eQ8p",
        "outputId": "d47ec784-2514-44b4-8101-d38635f43979",
        "colab": {
          "base_uri": "https://localhost:8080/"
        }
      },
      "outputs": [
        {
          "output_type": "execute_result",
          "data": {
            "text/plain": [
              "['paper', 'rock', 'scissors']"
            ]
          },
          "metadata": {},
          "execution_count": 6
        }
      ],
      "source": [
        "labeler = list(train.class_indices.keys())\n",
        "\n",
        "labeler"
      ]
    },
    {
      "cell_type": "code",
      "execution_count": null,
      "metadata": {
        "vscode": {
          "languageId": "plaintext"
        },
        "id": "ZG5MF08FeQ8q"
      },
      "outputs": [],
      "source": [
        "validset = ImageDataGenerator(\n",
        "  rescale = rescale,\n",
        "  validation_split = 0.3\n",
        ")\n",
        "\n",
        "valid = validset.flow_from_directory(\n",
        "  root,\n",
        "  target_size = (150, 150),\n",
        "  class_mode = \"categorical\",\n",
        "  batch_size = total_batch,\n",
        "  subset = \"validation\"\n",
        ")"
      ]
    },
    {
      "cell_type": "code",
      "execution_count": 8,
      "metadata": {
        "id": "hA1Jj4GaaP5c",
        "vscode": {
          "languageId": "plaintext"
        }
      },
      "outputs": [],
      "source": [
        "from tensorflow.keras.models import Sequential\n",
        "\n",
        "from tensorflow.keras import layers\n",
        "\n",
        "model = Sequential([\n",
        "  layers.Conv2D(16, 3, activation=\"relu\", input_shape=(150, 150, 3)),\n",
        "  layers.MaxPool2D((2, 2)),\n",
        "  layers.Conv2D(32, 3, activation=\"relu\"),\n",
        "  layers.MaxPool2D((2, 2)),\n",
        "  layers.Conv2D(64, 3, activation=\"relu\"),\n",
        "  layers.MaxPool2D((2, 2)),\n",
        "  layers.Flatten(),\n",
        "  layers.Dropout(0.3),\n",
        "  layers.Dense(128, activation=\"relu\"),\n",
        "  layers.Dense(3, activation=\"softmax\")\n",
        "])\n",
        "\n",
        "loss = \"categorical_crossentropy\"\n",
        "\n",
        "model.compile(optimizer=\"adam\", loss=loss, metrics=[\"accuracy\"])"
      ]
    },
    {
      "cell_type": "code",
      "execution_count": 9,
      "metadata": {
        "id": "R26aOBLQaP5e",
        "vscode": {
          "languageId": "plaintext"
        }
      },
      "outputs": [],
      "source": [
        "hist = model.fit(train, epochs=10, validation_data=valid, verbose=False)"
      ]
    },
    {
      "cell_type": "code",
      "execution_count": 10,
      "metadata": {
        "vscode": {
          "languageId": "plaintext"
        },
        "id": "QP131M80eQ8v",
        "outputId": "eab355a5-0e97-446a-8cc4-fc5d82404e5e",
        "colab": {
          "base_uri": "https://localhost:8080/"
        }
      },
      "outputs": [
        {
          "output_type": "execute_result",
          "data": {
            "text/plain": [
              "[0.07232635468244553, 0.9797782301902771]"
            ]
          },
          "metadata": {},
          "execution_count": 10
        }
      ],
      "source": [
        "model.evaluate(train, verbose=False)"
      ]
    },
    {
      "cell_type": "code",
      "execution_count": 11,
      "metadata": {
        "vscode": {
          "languageId": "plaintext"
        },
        "id": "KgGzOv1DeQ8w",
        "outputId": "933a0105-68a4-4e9f-919c-7125f7cd5fda",
        "colab": {
          "base_uri": "https://localhost:8080/"
        }
      },
      "outputs": [
        {
          "output_type": "execute_result",
          "data": {
            "text/plain": [
              "[0.05629769712686539, 0.9786259531974792]"
            ]
          },
          "metadata": {},
          "execution_count": 11
        }
      ],
      "source": [
        "model.evaluate(valid, verbose=False)"
      ]
    },
    {
      "cell_type": "code",
      "source": [
        "if not os.path.exists(\"Helplot.py\"):\n",
        "\n",
        "  giturl = \"https://raw.githubusercontent.com/Kelnite/Hut/refs/heads/main/Helplot.py\"\n",
        "\n",
        "  urllib.request.urlretrieve(giturl, \"Helplot.py\")"
      ],
      "metadata": {
        "id": "e_27U7pCeivh"
      },
      "execution_count": 12,
      "outputs": []
    },
    {
      "cell_type": "code",
      "source": [
        "from Helplot import Helplot\n",
        "\n",
        "plot = Helplot(hist, 'accuracy')\n",
        "\n",
        "plot.Relplot"
      ],
      "metadata": {
        "id": "Ki0W4NKRiGRQ",
        "outputId": "764a929e-67ce-4b5f-fe17-e1f8c89cd653",
        "colab": {
          "base_uri": "https://localhost:8080/",
          "height": 465
        }
      },
      "execution_count": 13,
      "outputs": [
        {
          "output_type": "display_data",
          "data": {
            "text/plain": [
              "<Figure size 640x480 with 1 Axes>"
            ],
            "image/png": "[encoded data removed]"
          },
          "metadata": {}
        }
      ]
    },
    {
      "cell_type": "code",
      "source": [
        "plot.Falplot"
      ],
      "metadata": {
        "id": "ztMrfUFdiTYU",
        "outputId": "b7026b50-233f-4b5b-888b-d36740343a3c",
        "colab": {
          "base_uri": "https://localhost:8080/",
          "height": 465
        }
      },
      "execution_count": 14,
      "outputs": [
        {
          "output_type": "display_data",
          "data": {
            "text/plain": [
              "<Figure size 640x480 with 1 Axes>"
            ],
            "image/png": "[encoded data removed]"
          },
          "metadata": {}
        }
      ]
    },
    {
      "cell_type": "code",
      "source": [
        "ModelFolder = \"/content/Modelite\"\n",
        "\n",
        "model.export(ModelFolder)"
      ],
      "metadata": {
        "id": "PUD7n3_5oE1x"
      },
      "execution_count": null,
      "outputs": []
    },
    {
      "cell_type": "code",
      "source": [
        "tflite = tf.lite.TFLiteConverter\n",
        "\n",
        "tflite_model = tflite.from_saved_model(ModelFolder)\n",
        "\n",
        "tflite_model.optimizations = [tf.lite.Optimize.DEFAULT]\n",
        "\n",
        "tflite_model = tflite_model.convert()\n",
        "\n",
        "pathfile = \"HutModel01.tflite\"\n",
        "\n",
        "tflite_model_file = pathlib.Path(pathfile)\n",
        "\n",
        "tflite_model_file.write_bytes(tflite_model)"
      ],
      "metadata": {
        "id": "0SAJbCe6oIsD",
        "outputId": "685dd1f3-bff3-459b-e819-8bcdccac7b80",
        "colab": {
          "base_uri": "https://localhost:8080/"
        }
      },
      "execution_count": 16,
      "outputs": [
        {
          "output_type": "execute_result",
          "data": {
            "text/plain": [
              "2401456"
            ]
          },
          "metadata": {},
          "execution_count": 16
        }
      ]
    },
    {
      "cell_type": "code",
      "source": [
        "os.path.getsize(pathfile) / float(2**20)"
      ],
      "metadata": {
        "id": "js7NyWefoLNo",
        "outputId": "27b91b89-e3e3-4a7d-8443-1c3f0bf53070",
        "colab": {
          "base_uri": "https://localhost:8080/"
        }
      },
      "execution_count": 17,
      "outputs": [
        {
          "output_type": "execute_result",
          "data": {
            "text/plain": [
              "2.2902069091796875"
            ]
          },
          "metadata": {},
          "execution_count": 17
        }
      ]
    },
    {
      "cell_type": "code",
      "source": [
        "interpreter = tf.lite.Interpreter(model_path=pathfile)\n",
        "\n",
        "interpreter.get_signature_list()"
      ],
      "metadata": {
        "id": "9trYytrVoMwZ",
        "outputId": "95666648-223c-4804-ccee-5aa0b5a697cb",
        "colab": {
          "base_uri": "https://localhost:8080/"
        }
      },
      "execution_count": 18,
      "outputs": [
        {
          "output_type": "execute_result",
          "data": {
            "text/plain": [
              "{'serving_default': {'inputs': ['keras_tensor'], 'outputs': ['output_0']}}"
            ]
          },
          "metadata": {},
          "execution_count": 18
        }
      ]
    },
    {
      "cell_type": "code",
      "source": [
        "lite_interpreter = interpreter.get_signature_runner('serving_default')\n",
        "\n",
        "lite_interpreter"
      ],
      "metadata": {
        "id": "SR2lKK3VoPnc",
        "outputId": "a79a388f-ae88-46e2-985f-db225b57cf65",
        "colab": {
          "base_uri": "https://localhost:8080/"
        }
      },
      "execution_count": 19,
      "outputs": [
        {
          "output_type": "execute_result",
          "data": {
            "text/plain": [
              "<tensorflow.lite.python.interpreter.SignatureRunner at 0x7b93b6f99950>"
            ]
          },
          "metadata": {},
          "execution_count": 19
        }
      ]
    },
    {
      "cell_type": "code",
      "source": [
        "paper = \"/content/rockpaperscissors/paper/04l5I8TqdzF9WDMJ.png\"\n",
        "\n",
        "tester = tf.keras.utils.load_img(paper, target_size=(150, 150))\n",
        "\n",
        "tester = tf.keras.utils.img_to_array(tester)\n",
        "\n",
        "tester = tf.expand_dims(tester, axis=0)\n",
        "\n",
        "tester = tf.cast(tester / 255.0, tf.float32)\n",
        "\n",
        "tester.shape"
      ],
      "metadata": {
        "id": "sPXlxhAsoSZ_",
        "outputId": "87ce5fdc-dd1e-4a4b-e40a-756793419b09",
        "colab": {
          "base_uri": "https://localhost:8080/"
        }
      },
      "execution_count": 20,
      "outputs": [
        {
          "output_type": "execute_result",
          "data": {
            "text/plain": [
              "TensorShape([1, 150, 150, 3])"
            ]
          },
          "metadata": {},
          "execution_count": 20
        }
      ]
    },
    {
      "cell_type": "code",
      "source": [
        "testa = lite_interpreter(keras_tensor=tester)['output_0']\n",
        "\n",
        "testa"
      ],
      "metadata": {
        "id": "QD2lhI2-oU5S",
        "outputId": "ea33e33f-ab63-4def-c20b-008a2d021cdd",
        "colab": {
          "base_uri": "https://localhost:8080/"
        }
      },
      "execution_count": 21,
      "outputs": [
        {
          "output_type": "execute_result",
          "data": {
            "text/plain": [
              "array([[1.0000000e+00, 9.3682306e-29, 1.6935764e-33]], dtype=float32)"
            ]
          },
          "metadata": {},
          "execution_count": 21
        }
      ]
    },
    {
      "cell_type": "code",
      "source": [
        "labeler[tf.math.argmax(testa[0])]"
      ],
      "metadata": {
        "id": "yYxqaRsMoX7_",
        "outputId": "d76e8207-90dd-4261-f319-d89a2f7994ca",
        "colab": {
          "base_uri": "https://localhost:8080/",
          "height": 36
        }
      },
      "execution_count": 22,
      "outputs": [
        {
          "output_type": "execute_result",
          "data": {
            "text/plain": [
              "'paper'"
            ],
            "application/vnd.google.colaboratory.intrinsic+json": {
              "type": "string"
            }
          },
          "metadata": {},
          "execution_count": 22
        }
      ]
    },
    {
      "cell_type": "code",
      "source": [
        "test_img, test_label = next(iter(valid))\n",
        "\n",
        "logits = model.predict(test_img, verbose=0)\n",
        "\n",
        "logits.shape"
      ],
      "metadata": {
        "id": "Bf0F8s8eoZt_",
        "outputId": "1482534f-9d79-46c1-c774-0f6ac226d60b",
        "colab": {
          "base_uri": "https://localhost:8080/"
        }
      },
      "execution_count": 24,
      "outputs": [
        {
          "output_type": "execute_result",
          "data": {
            "text/plain": [
              "(128, 3)"
            ]
          },
          "metadata": {},
          "execution_count": 24
        }
      ]
    }
  ],
  "metadata": {
    "colab": {
      "provenance": []
    },
    "kernelspec": {
      "display_name": "Python 3",
      "name": "python3"
    },
    "language_info": {
      "name": "python"
    }
  },
  "nbformat": 4,
  "nbformat_minor": 0
}