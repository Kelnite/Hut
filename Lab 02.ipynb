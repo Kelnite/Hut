{
 "cells": [
  {
   "cell_type": "code",
   "execution_count": null,
   "metadata": {
    "vscode": {
     "languageId": "plaintext"
    }
   },
   "outputs": [],
   "source": [
    "!pip install pytorch-lightning --quiet"
   ]
  },
  {
   "cell_type": "code",
   "execution_count": null,
   "metadata": {
    "vscode": {
     "languageId": "plaintext"
    }
   },
   "outputs": [],
   "source": [
    "import torch, os, pathlib, warnings, urllib, shutil\n",
    "\n",
    "warnings.filterwarnings('ignore')\n",
    "\n",
    "import pytorch_lightning as pl"
   ]
  },
  {
   "cell_type": "code",
   "execution_count": null,
   "metadata": {
    "vscode": {
     "languageId": "plaintext"
    }
   },
   "outputs": [],
   "source": [
    "giturl = \"https://github.com/dicodingacademy/assets/releases/download/release/\"\n",
    "\n",
    "dataset = \"rockpaperscissors.zip\"\n",
    "\n",
    "urllib.request.urlretrieve(os.path.join(giturl, dataset), dataset)\n",
    "\n",
    "shutil.unpack_archive('rockpaperscissors.zip', '/content', 'zip')"
   ]
  },
  {
   "cell_type": "code",
   "execution_count": null,
   "metadata": {
    "vscode": {
     "languageId": "plaintext"
    }
   },
   "outputs": [],
   "source": [
    "class OurModel(pl.LightningModule):\n",
    "  def __init__(self, model):\n",
    "    self.model = model"
   ]
  }
 ],
 "metadata": {
  "language_info": {
   "name": "python"
  }
 },
 "nbformat": 4,
 "nbformat_minor": 2
}
